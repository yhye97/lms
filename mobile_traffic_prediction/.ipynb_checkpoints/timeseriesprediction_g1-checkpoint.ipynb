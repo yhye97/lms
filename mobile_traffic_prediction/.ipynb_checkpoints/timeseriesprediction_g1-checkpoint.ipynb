{
 "cells": [
  {
   "cell_type": "code",
   "execution_count": 12,
   "metadata": {},
   "outputs": [
    {
     "name": "stdout",
     "output_type": "stream",
     "text": [
      "   internetActivity\n",
      "0         57.799009\n",
      "1         44.046899\n",
      "2         41.207149\n",
      "3         33.022070\n",
      "4         31.376930\n"
     ]
    },
    {
     "data": {
      "text/plain": [
       "<matplotlib.axes._subplots.AxesSubplot at 0x14d6051d0>"
      ]
     },
     "execution_count": 12,
     "metadata": {},
     "output_type": "execute_result"
    },
    {
     "data": {
      "image/png": "[encoded data removed]",
      "text/plain": [
       "<Figure size 432x288 with 1 Axes>"
      ]
     },
     "metadata": {
      "needs_background": "light"
     },
     "output_type": "display_data"
    }
   ],
   "source": [
    "#https://github.com/ivanarielcaceres/timeseries-lstm-keras/blob/master/timeseries-prediction.ipynb\n",
    "from matplotlib import pyplot as plt\n",
    "from sklearn.preprocessing import MinMaxScaler\n",
    "from keras.models import Sequential\n",
    "from keras.layers import GRU, Dense\n",
    "from keras.layers import LSTM\n",
    "from keras  import callbacks\n",
    "from keras import optimizers\n",
    "import pandas as pd \n",
    "import tensorflow as tf\n",
    "import numpy as np\n",
    "\n",
    "df = pd.read_csv('grid1.csv')\n",
    "df=df.drop(['Unnamed: 0','smsIn','smsOut','callIn','callOut'],axis=1)\n",
    "print(df.head())\n",
    "df.plot()"
   ]
  },
  {
   "cell_type": "code",
   "execution_count": 14,
   "metadata": {},
   "outputs": [
    {
     "name": "stdout",
     "output_type": "stream",
     "text": [
      "Total rows: 24\n"
     ]
    },
    {
     "data": {
      "text/html": [
       "<div>\n",
       "<style scoped>\n",
       "    .dataframe tbody tr th:only-of-type {\n",
       "        vertical-align: middle;\n",
       "    }\n",
       "\n",
       "    .dataframe tbody tr th {\n",
       "        vertical-align: top;\n",
       "    }\n",
       "\n",
       "    .dataframe thead th {\n",
       "        text-align: right;\n",
       "    }\n",
       "</style>\n",
       "<table border=\"1\" class=\"dataframe\">\n",
       "  <thead>\n",
       "    <tr style=\"text-align: right;\">\n",
       "      <th></th>\n",
       "      <th>internetActivity</th>\n",
       "    </tr>\n",
       "  </thead>\n",
       "  <tbody>\n",
       "    <tr>\n",
       "      <th>0</th>\n",
       "      <td>57799.009468</td>\n",
       "    </tr>\n",
       "    <tr>\n",
       "      <th>1</th>\n",
       "      <td>44046.899011</td>\n",
       "    </tr>\n",
       "    <tr>\n",
       "      <th>2</th>\n",
       "      <td>41207.149433</td>\n",
       "    </tr>\n",
       "    <tr>\n",
       "      <th>3</th>\n",
       "      <td>33022.069709</td>\n",
       "    </tr>\n",
       "    <tr>\n",
       "      <th>4</th>\n",
       "      <td>31376.930116</td>\n",
       "    </tr>\n",
       "  </tbody>\n",
       "</table>\n",
       "</div>"
      ],
      "text/plain": [
       "   internetActivity\n",
       "0      57799.009468\n",
       "1      44046.899011\n",
       "2      41207.149433\n",
       "3      33022.069709\n",
       "4      31376.930116"
      ]
     },
     "execution_count": 14,
     "metadata": {},
     "output_type": "execute_result"
    }
   ],
   "source": [
    "\n",
    "columns_to_keep = ['internetActivity']\n",
    "df = df[columns_to_keep]\n",
    "df['internetActivity'] = df['internetActivity'].apply(lambda x: x*1000)\n",
    "print('Total rows: {}'.format(len(df)))\n",
    "df.head()"
   ]
  },
  {
   "cell_type": "code",
   "execution_count": 15,
   "metadata": {},
   "outputs": [
    {
     "data": {
      "text/html": [
       "<div>\n",
       "<style scoped>\n",
       "    .dataframe tbody tr th:only-of-type {\n",
       "        vertical-align: middle;\n",
       "    }\n",
       "\n",
       "    .dataframe tbody tr th {\n",
       "        vertical-align: top;\n",
       "    }\n",
       "\n",
       "    .dataframe thead th {\n",
       "        text-align: right;\n",
       "    }\n",
       "</style>\n",
       "<table border=\"1\" class=\"dataframe\">\n",
       "  <thead>\n",
       "    <tr style=\"text-align: right;\">\n",
       "      <th></th>\n",
       "      <th>internetActivity</th>\n",
       "    </tr>\n",
       "  </thead>\n",
       "  <tbody>\n",
       "    <tr>\n",
       "      <th>count</th>\n",
       "      <td>24.000000</td>\n",
       "    </tr>\n",
       "    <tr>\n",
       "      <th>mean</th>\n",
       "      <td>62793.681200</td>\n",
       "    </tr>\n",
       "    <tr>\n",
       "      <th>std</th>\n",
       "      <td>19011.375586</td>\n",
       "    </tr>\n",
       "    <tr>\n",
       "      <th>min</th>\n",
       "      <td>31376.930116</td>\n",
       "    </tr>\n",
       "    <tr>\n",
       "      <th>25%</th>\n",
       "      <td>43768.550301</td>\n",
       "    </tr>\n",
       "    <tr>\n",
       "      <th>50%</th>\n",
       "      <td>65804.393588</td>\n",
       "    </tr>\n",
       "    <tr>\n",
       "      <th>75%</th>\n",
       "      <td>77498.864368</td>\n",
       "    </tr>\n",
       "    <tr>\n",
       "      <th>max</th>\n",
       "      <td>89866.085817</td>\n",
       "    </tr>\n",
       "  </tbody>\n",
       "</table>\n",
       "</div>"
      ],
      "text/plain": [
       "       internetActivity\n",
       "count         24.000000\n",
       "mean       62793.681200\n",
       "std        19011.375586\n",
       "min        31376.930116\n",
       "25%        43768.550301\n",
       "50%        65804.393588\n",
       "75%        77498.864368\n",
       "max        89866.085817"
      ]
     },
     "execution_count": 15,
     "metadata": {},
     "output_type": "execute_result"
    }
   ],
   "source": [
    "df.describe()"
   ]
  },
  {
   "cell_type": "code",
   "execution_count": 16,
   "metadata": {},
   "outputs": [
    {
     "data": {
      "text/plain": [
       "<matplotlib.axes._subplots.AxesSubplot at 0x14d7cea50>"
      ]
     },
     "execution_count": 16,
     "metadata": {},
     "output_type": "execute_result"
    },
    {
     "data": {
      "image/png": "[encoded data removed]",
      "text/plain": [
       "<Figure size 432x288 with 1 Axes>"
      ]
     },
     "metadata": {
      "needs_background": "light"
     },
     "output_type": "display_data"
    }
   ],
   "source": [
    "df.plot()"
   ]
  },
  {
   "cell_type": "code",
   "execution_count": 17,
   "metadata": {},
   "outputs": [
    {
     "data": {
      "text/plain": [
       "internetActivity    0\n",
       "dtype: int64"
      ]
     },
     "execution_count": 17,
     "metadata": {},
     "output_type": "execute_result"
    }
   ],
   "source": [
    "#null값\n",
    "df.isnull().sum()"
   ]
  },
  {
   "cell_type": "code",
   "execution_count": 18,
   "metadata": {},
   "outputs": [
    {
     "name": "stdout",
     "output_type": "stream",
     "text": [
      "Min internetActivity    31376.930116\n",
      "dtype: float64\n",
      "Max internetActivity    89866.085817\n",
      "dtype: float64\n"
     ]
    }
   ],
   "source": [
    "print('Min', np.min(df))\n",
    "print('Max', np.max(df))"
   ]
  },
  {
   "cell_type": "code",
   "execution_count": 22,
   "metadata": {},
   "outputs": [
    {
     "name": "stdout",
     "output_type": "stream",
     "text": [
      "Min 0.0\n",
      "Max 1.0\n"
     ]
    }
   ],
   "source": [
    "dataset = df.astype('float32')\n",
    "scaler = MinMaxScaler(feature_range=(0, 1))\n",
    "scaled = scaler.fit_transform(dataset)\n",
    "print('Min', np.min(scaled))\n",
    "print('Max', np.max(scaled))"
   ]
  },
  {
   "cell_type": "code",
   "execution_count": 20,
   "metadata": {},
   "outputs": [
    {
     "name": "stdout",
     "output_type": "stream",
     "text": [
      "[[0.4517432 ]\n",
      " [0.2166208 ]\n",
      " [0.16806906]\n",
      " [0.02812725]\n",
      " [0.        ]\n",
      " [0.05923599]\n",
      " [0.0690589 ]\n",
      " [0.19758493]\n",
      " [0.48733562]\n",
      " [0.6797598 ]\n",
      " [0.8610509 ]\n",
      " [0.7845115 ]\n",
      " [0.74349314]\n",
      " [0.800687  ]\n",
      " [1.        ]\n",
      " [0.9609311 ]\n",
      " [0.66396004]\n",
      " [0.7679587 ]\n",
      " [0.9717321 ]\n",
      " [0.82957774]\n",
      " [0.69609886]\n",
      " [0.51326555]\n",
      " [0.47138458]\n",
      " [0.46912688]]\n"
     ]
    }
   ],
   "source": [
    "print(scaled[:24])"
   ]
  },
  {
   "cell_type": "code",
   "execution_count": 23,
   "metadata": {},
   "outputs": [
    {
     "name": "stdout",
     "output_type": "stream",
     "text": [
      "train: 16\n",
      "test: 8\n"
     ]
    }
   ],
   "source": [
    "#Create RNN\n",
    "train_size = int(len(scaled) * 0.70)\n",
    "test_size = len(scaled - train_size)\n",
    "train, test = scaled[0:train_size, :], scaled[train_size: len(scaled), :]\n",
    "print('train: {}\\ntest: {}'.format(len(train), len(test)))"
   ]
  },
  {
   "cell_type": "code",
   "execution_count": 24,
   "metadata": {},
   "outputs": [],
   "source": [
    "def create_dataset(dataset, look_back=1):\n",
    "    print(len(dataset), look_back)\n",
    "    dataX, dataY = [], []\n",
    "    for i in range(len(dataset)-look_back-1):\n",
    "        a = dataset[i:(i+look_back), 0]\n",
    "        print(i)\n",
    "        print('X {} to {}'.format(i, i+look_back))\n",
    "        print(a)\n",
    "        print('Y {}'.format(i + look_back))\n",
    "        print(dataset[i + look_back, 0])\n",
    "        dataset[i + look_back, 0]\n",
    "        dataX.append(a)\n",
    "        dataY.append(dataset[i + look_back, 0])\n",
    "    return np.array(dataX), np.array(dataY)\n"
   ]
  },
  {
   "cell_type": "code",
   "execution_count": 25,
   "metadata": {},
   "outputs": [
    {
     "name": "stdout",
     "output_type": "stream",
     "text": [
      "16 1\n",
      "0\n",
      "X 0 to 1\n",
      "[0.4517432]\n",
      "Y 1\n",
      "0.2166208\n",
      "1\n",
      "X 1 to 2\n",
      "[0.2166208]\n",
      "Y 2\n",
      "0.16806906\n",
      "2\n",
      "X 2 to 3\n",
      "[0.16806906]\n",
      "Y 3\n",
      "0.028127253\n",
      "3\n",
      "X 3 to 4\n",
      "[0.02812725]\n",
      "Y 4\n",
      "0.0\n",
      "4\n",
      "X 4 to 5\n",
      "[0.]\n",
      "Y 5\n",
      "0.05923599\n",
      "5\n",
      "X 5 to 6\n",
      "[0.05923599]\n",
      "Y 6\n",
      "0.069058895\n",
      "6\n",
      "X 6 to 7\n",
      "[0.0690589]\n",
      "Y 7\n",
      "0.19758493\n",
      "7\n",
      "X 7 to 8\n",
      "[0.19758493]\n",
      "Y 8\n",
      "0.48733562\n",
      "8\n",
      "X 8 to 9\n",
      "[0.48733562]\n",
      "Y 9\n",
      "0.6797598\n",
      "9\n",
      "X 9 to 10\n",
      "[0.6797598]\n",
      "Y 10\n",
      "0.8610509\n",
      "10\n",
      "X 10 to 11\n",
      "[0.8610509]\n",
      "Y 11\n",
      "0.7845115\n",
      "11\n",
      "X 11 to 12\n",
      "[0.7845115]\n",
      "Y 12\n",
      "0.74349314\n",
      "12\n",
      "X 12 to 13\n",
      "[0.74349314]\n",
      "Y 13\n",
      "0.800687\n",
      "13\n",
      "X 13 to 14\n",
      "[0.800687]\n",
      "Y 14\n",
      "1.0\n",
      "8 1\n",
      "0\n",
      "X 0 to 1\n",
      "[0.66396004]\n",
      "Y 1\n",
      "0.7679587\n",
      "1\n",
      "X 1 to 2\n",
      "[0.7679587]\n",
      "Y 2\n",
      "0.9717321\n",
      "2\n",
      "X 2 to 3\n",
      "[0.9717321]\n",
      "Y 3\n",
      "0.82957774\n",
      "3\n",
      "X 3 to 4\n",
      "[0.82957774]\n",
      "Y 4\n",
      "0.69609886\n",
      "4\n",
      "X 4 to 5\n",
      "[0.69609886]\n",
      "Y 5\n",
      "0.51326555\n",
      "5\n",
      "X 5 to 6\n",
      "[0.51326555]\n",
      "Y 6\n",
      "0.47138458\n"
     ]
    }
   ],
   "source": [
    "look_back = 1\n",
    "X_train, y_train = create_dataset(train, look_back)\n",
    "X_test, y_test = create_dataset(test, look_back)"
   ]
  },
  {
   "cell_type": "code",
   "execution_count": 26,
   "metadata": {},
   "outputs": [
    {
     "name": "stdout",
     "output_type": "stream",
     "text": [
      "(14, 1, 1)\n",
      "(6, 1, 1)\n"
     ]
    }
   ],
   "source": [
    "X_train = np.reshape(X_train, (X_train.shape[0], X_train.shape[1], 1))\n",
    "X_test = np.reshape(X_test, (X_test.shape[0], X_test.shape[1], 1))\n",
    "print(X_train.shape)\n",
    "print(X_test.shape)"
   ]
  },
  {
   "cell_type": "code",
   "execution_count": 27,
   "metadata": {},
   "outputs": [
    {
     "name": "stdout",
     "output_type": "stream",
     "text": [
      "Epoch 1/100\n",
      " - 0s - loss: 0.1910\n",
      "Epoch 2/100\n",
      " - 0s - loss: 0.1610\n",
      "Epoch 3/100\n",
      " - 0s - loss: 0.1421\n",
      "Epoch 4/100\n",
      " - 0s - loss: 0.1343\n",
      "Epoch 5/100\n",
      " - 0s - loss: 0.1090\n",
      "Epoch 6/100\n",
      " - 0s - loss: 0.1179\n",
      "Epoch 7/100\n",
      " - 0s - loss: 0.0915\n",
      "Epoch 8/100\n",
      " - 0s - loss: 0.1026\n",
      "Epoch 9/100\n",
      " - 0s - loss: 0.0965\n",
      "Epoch 10/100\n",
      " - 0s - loss: 0.0856\n",
      "Epoch 11/100\n",
      " - 0s - loss: 0.0922\n",
      "Epoch 12/100\n",
      " - 0s - loss: 0.0775\n",
      "Epoch 13/100\n",
      " - 0s - loss: 0.0929\n",
      "Epoch 14/100\n",
      " - 0s - loss: 0.0879\n",
      "Epoch 15/100\n",
      " - 0s - loss: 0.0938\n",
      "Epoch 16/100\n",
      " - 0s - loss: 0.0921\n",
      "Epoch 17/100\n",
      " - 0s - loss: 0.0735\n",
      "Epoch 18/100\n",
      " - 0s - loss: 0.0803\n",
      "Epoch 19/100\n",
      " - 0s - loss: 0.0862\n",
      "Epoch 20/100\n",
      " - 0s - loss: 0.0821\n",
      "Epoch 21/100\n",
      " - 0s - loss: 0.0853\n",
      "Epoch 22/100\n",
      " - 0s - loss: 0.0798\n",
      "Epoch 23/100\n",
      " - 0s - loss: 0.0847\n",
      "Epoch 24/100\n",
      " - 0s - loss: 0.0506\n",
      "Epoch 25/100\n",
      " - 0s - loss: 0.0864\n",
      "Epoch 26/100\n",
      " - 0s - loss: 0.0748\n",
      "Epoch 27/100\n",
      " - 0s - loss: 0.0666\n",
      "Epoch 28/100\n",
      " - 0s - loss: 0.0774\n",
      "Epoch 29/100\n",
      " - 0s - loss: 0.0784\n",
      "Epoch 30/100\n",
      " - 0s - loss: 0.0708\n",
      "Epoch 31/100\n",
      " - 0s - loss: 0.0730\n",
      "Epoch 32/100\n",
      " - 0s - loss: 0.0779\n",
      "Epoch 33/100\n",
      " - 0s - loss: 0.0746\n",
      "Epoch 34/100\n",
      " - 0s - loss: 0.0738\n",
      "Epoch 35/100\n",
      " - 0s - loss: 0.0536\n",
      "Epoch 36/100\n",
      " - 0s - loss: 0.0608\n",
      "Epoch 37/100\n",
      " - 0s - loss: 0.0626\n",
      "Epoch 38/100\n",
      " - 0s - loss: 0.0820\n",
      "Epoch 39/100\n",
      " - 0s - loss: 0.0729\n",
      "Epoch 40/100\n",
      " - 0s - loss: 0.0671\n",
      "Epoch 41/100\n",
      " - 0s - loss: 0.0628\n",
      "Epoch 42/100\n",
      " - 0s - loss: 0.0640\n",
      "Epoch 43/100\n",
      " - 0s - loss: 0.0594\n",
      "Epoch 44/100\n",
      " - 0s - loss: 0.0649\n",
      "Epoch 45/100\n",
      " - 0s - loss: 0.0454\n",
      "Epoch 46/100\n",
      " - 0s - loss: 0.0417\n",
      "Epoch 47/100\n",
      " - 0s - loss: 0.0585\n",
      "Epoch 48/100\n",
      " - 0s - loss: 0.0502\n",
      "Epoch 49/100\n",
      " - 0s - loss: 0.0505\n",
      "Epoch 50/100\n",
      " - 0s - loss: 0.0438\n",
      "Epoch 51/100\n",
      " - 0s - loss: 0.0470\n",
      "Epoch 52/100\n",
      " - 0s - loss: 0.0543\n",
      "Epoch 53/100\n",
      " - 0s - loss: 0.0514\n",
      "Epoch 54/100\n",
      " - 0s - loss: 0.0620\n",
      "Epoch 55/100\n",
      " - 0s - loss: 0.0621\n",
      "Epoch 56/100\n",
      " - 0s - loss: 0.0523\n",
      "Epoch 57/100\n",
      " - 0s - loss: 0.0449\n",
      "Epoch 58/100\n",
      " - 0s - loss: 0.0469\n",
      "Epoch 59/100\n",
      " - 0s - loss: 0.0437\n",
      "Epoch 60/100\n",
      " - 0s - loss: 0.0416\n",
      "Epoch 61/100\n",
      " - 0s - loss: 0.0443\n",
      "Epoch 62/100\n",
      " - 0s - loss: 0.0520\n",
      "Epoch 63/100\n",
      " - 0s - loss: 0.0266\n",
      "Epoch 64/100\n",
      " - 0s - loss: 0.0336\n",
      "Epoch 65/100\n",
      " - 0s - loss: 0.0378\n",
      "Epoch 66/100\n",
      " - 0s - loss: 0.0413\n",
      "Epoch 67/100\n",
      " - 0s - loss: 0.0326\n",
      "Epoch 68/100\n",
      " - 0s - loss: 0.0527\n",
      "Epoch 69/100\n",
      " - 0s - loss: 0.0404\n",
      "Epoch 70/100\n",
      " - 0s - loss: 0.0337\n",
      "Epoch 71/100\n",
      " - 0s - loss: 0.0273\n",
      "Epoch 72/100\n",
      " - 0s - loss: 0.0281\n",
      "Epoch 73/100\n",
      " - 0s - loss: 0.0311\n",
      "Epoch 74/100\n",
      " - 0s - loss: 0.0369\n",
      "Epoch 75/100\n",
      " - 0s - loss: 0.0365\n",
      "Epoch 76/100\n",
      " - 0s - loss: 0.0256\n",
      "Epoch 77/100\n",
      " - 0s - loss: 0.0287\n",
      "Epoch 78/100\n",
      " - 0s - loss: 0.0323\n",
      "Epoch 79/100\n",
      " - 0s - loss: 0.0320\n",
      "Epoch 80/100\n",
      " - 0s - loss: 0.0333\n",
      "Epoch 81/100\n",
      " - 0s - loss: 0.0301\n",
      "Epoch 82/100\n",
      " - 0s - loss: 0.0340\n",
      "Epoch 83/100\n",
      " - 0s - loss: 0.0265\n",
      "Epoch 84/100\n",
      " - 0s - loss: 0.0259\n",
      "Epoch 85/100\n",
      " - 0s - loss: 0.0244\n",
      "Epoch 86/100\n",
      " - 0s - loss: 0.0266\n",
      "Epoch 87/100\n",
      " - 0s - loss: 0.0304\n",
      "Epoch 88/100\n",
      " - 0s - loss: 0.0266\n",
      "Epoch 89/100\n",
      " - 0s - loss: 0.0226\n",
      "Epoch 90/100\n",
      " - 0s - loss: 0.0212\n",
      "Epoch 91/100\n",
      " - 0s - loss: 0.0247\n",
      "Epoch 92/100\n",
      " - 0s - loss: 0.0239\n",
      "Epoch 93/100\n",
      " - 0s - loss: 0.0276\n",
      "Epoch 94/100\n",
      " - 0s - loss: 0.0304\n",
      "Epoch 95/100\n",
      " - 0s - loss: 0.0206\n",
      "Epoch 96/100\n",
      " - 0s - loss: 0.0235\n",
      "Epoch 97/100\n",
      " - 0s - loss: 0.0207\n",
      "Epoch 98/100\n",
      " - 0s - loss: 0.0284\n",
      "Epoch 99/100\n",
      " - 0s - loss: 0.0217\n",
      "Epoch 100/100\n",
      " - 0s - loss: 0.0173\n"
     ]
    },
    {
     "data": {
      "text/plain": [
       "<keras.callbacks.callbacks.History at 0x14da499d0>"
      ]
     },
     "execution_count": 27,
     "metadata": {},
     "output_type": "execute_result"
    }
   ],
   "source": [
    "batch_size = 1\n",
    "model = Sequential()\n",
    "model.add(LSTM(4, batch_input_shape=(batch_size, look_back, 1), stateful=True))\n",
    "model.add(Dense(1))\n",
    "model.compile(loss='mean_squared_error', optimizer='adam')\n",
    "model.fit(X_train, y_train, epochs=100, batch_size=batch_size, verbose=2, shuffle=True)"
   ]
  },
  {
   "cell_type": "code",
   "execution_count": 28,
   "metadata": {},
   "outputs": [
    {
     "name": "stdout",
     "output_type": "stream",
     "text": [
      "Train Score: 9396.37 RMSE\n",
      "Test Score: 13194.16 RMSE\n"
     ]
    }
   ],
   "source": [
    "import math\n",
    "from sklearn.metrics import mean_squared_error\n",
    "\n",
    "trainPredict = model.predict(X_train, batch_size=batch_size)\n",
    "model.reset_states()\n",
    "\n",
    "testPredict = model.predict(X_test, batch_size=batch_size)\n",
    "# invert predictions\n",
    "trainPredict = scaler.inverse_transform(trainPredict)\n",
    "y_train = scaler.inverse_transform([y_train])\n",
    "testPredict = scaler.inverse_transform(testPredict)\n",
    "y_test = scaler.inverse_transform([y_test])\n",
    "# calculate root mean squared error\n",
    "trainScore = math.sqrt(mean_squared_error(y_train[0], trainPredict[:,0]))\n",
    "print('Train Score: %.2f RMSE' % (trainScore))\n",
    "testScore = math.sqrt(mean_squared_error(y_test[0], testPredict[:,0]))\n",
    "print('Test Score: %.2f RMSE' % (testScore))"
   ]
  },
  {
   "cell_type": "code",
   "execution_count": 29,
   "metadata": {},
   "outputs": [
    {
     "data": {
      "image/png": "[encoded data removed]",
      "text/plain": [
       "<Figure size 1440x720 with 1 Axes>"
      ]
     },
     "metadata": {
      "needs_background": "light"
     },
     "output_type": "display_data"
    }
   ],
   "source": [
    "trainPredictPlot = np.empty_like(scaled)\n",
    "trainPredictPlot[:, :] = np.nan\n",
    "trainPredictPlot[look_back:len(trainPredict)+look_back, :] = trainPredict\n",
    "# shift test predictions for plotting\n",
    "testPredictPlot = np.empty_like(scaled)\n",
    "testPredictPlot[:, :] = np.nan\n",
    "testPredictPlot[len(trainPredict)+(look_back*2)+1:len(scaled)-1, :] = testPredict\n",
    "# plot baseline and predictions\n",
    "plt.figure(figsize=(20,10))\n",
    "plt.plot(scaler.inverse_transform(scaled))\n",
    "plt.plot(trainPredictPlot)\n",
    "plt.plot(testPredictPlot)\n",
    "plt.show()"
   ]
  },
  {
   "cell_type": "code",
   "execution_count": null,
   "metadata": {},
   "outputs": [],
   "source": []
  }
 ],
 "metadata": {
  "kernelspec": {
   "display_name": "Python 3",
   "language": "python",
   "name": "python3"
  },
  "language_info": {
   "codemirror_mode": {
    "name": "ipython",
    "version": 3
   },
   "file_extension": ".py",
   "mimetype": "text/x-python",
   "name": "python",
   "nbconvert_exporter": "python",
   "pygments_lexer": "ipython3",
   "version": "3.7.7"
  }
 },
 "nbformat": 4,
 "nbformat_minor": 4
}

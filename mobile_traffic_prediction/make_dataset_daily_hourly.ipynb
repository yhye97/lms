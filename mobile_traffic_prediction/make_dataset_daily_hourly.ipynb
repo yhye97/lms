{
 "cells": [
  {
   "cell_type": "code",
   "execution_count": 12,
   "metadata": {},
   "outputs": [],
   "source": [
    "#import frequently used modules\n",
    "import pandas as pd\n",
    "import numpy as np\n",
    "import seaborn as sns\n",
    "import matplotlib.pyplot as plt\n",
    "from tqdm import tqdm\n",
    "import pytz\n",
    "from datetime import timedelta, date, datetime\n",
    "import time\n",
    "\n",
    "\n",
    "start_time = time.time()\n",
    "\n",
    "#Initialize an empty dataframe to append the daily and hourly resampled data\n",
    "dailyGridActivity = pd.DataFrame()\n",
    "hourlyGridActivity = pd.DataFrame()\n",
    "\n",
    "filename_constant = \"sms-call-internet-mi-2013-11-01.txt\"\n",
    "col_list = ['gridID', 'timeInterval', 'countryCode', 'smsIn', 'smsOut', 'callIn', 'callOut', 'internetActivity']\n",
    "\n",
    "#Generating filenames iteratively\n",
    "#def daterange(start_date, end_date):\n",
    "#    for n in range(int ((end_date - start_date).days)):\n",
    "#        yield start_date + timedelta(n)\n",
    "\n",
    "#start_date = date(2013, 11, 1)\n",
    "#end_date = date(2013, 11, 1)\n",
    "#for single_date in tqdm(daterange(start_date, end_date)):\n",
    "    #read_data = pd.read_csv(filename_constant.format(single_date.strftime(\"%Y-%m-%d\")), sep='\\t',header=None, names=col_list, parse_dates=True)\n",
    "read_data = pd.read_csv(filename_constant, sep='\\t',header=None, names=col_list, parse_dates=True)\n",
    "    #Check for null values (Execute until this point seperately before proceeding ahead)\n",
    "    #print(filename_constant.format(single_date.strftime(\"%Y-%m-%d\")))\n",
    "    #print(read_data.isnull().sum())\n",
    "    \n",
    "    #Convert timeInterval column which has Epoch timestamps to UTC and then convert to Milan's local timezone\n",
    "    #tz_localize(None) returns local time format, not \"UTC+1:00\" format\n",
    "read_data['startTime'] = pd.to_datetime(read_data.timeInterval, unit='ms', utc=True).dt.tz_convert('CET').dt.tz_localize(None)\n",
    "    \n",
    "    #Drop timeInterval columns\n",
    "read_data.drop(columns=['timeInterval','countryCode'], inplace=True)\n",
    "    \n",
    "    #Groupby gridID and startTime as well as set index \n",
    "    #startTime which is 10 min apart is resampled to daily aggregation \n",
    "read_data_daily = read_data.groupby(['gridID', pd.Grouper(key='startTime', freq='D')]).sum()\n",
    "dailyGridActivity = pd.concat([dailyGridActivity,read_data_daily]).groupby(['gridID', 'startTime']).sum()\n",
    "    \n",
    "    #Groupby gridID and startTime as well as set index \n",
    "    #startTime which is 10 min apart is resampled to hourly aggregation \n",
    "read_data_hourly = read_data.groupby(['gridID', pd.Grouper(key='startTime', freq='H')]).sum()\n",
    "hourlyGridActivity = pd.concat([hourlyGridActivity,read_data_hourly]).groupby(['gridID', 'startTime']).sum()\n",
    "    \n",
    "dailyGridActivity.to_csv('dailygrid.csv')\n",
    "hourlyGridActivity.to_csv('hourlygrid.csv')"
   ]
  },
  {
   "cell_type": "code",
   "execution_count": 13,
   "metadata": {},
   "outputs": [
    {
     "name": "stderr",
     "output_type": "stream",
     "text": [
      "\r",
      "  0%|          | 0/7 [00:00<?, ?it/s]"
     ]
    },
    {
     "name": "stdout",
     "output_type": "stream",
     "text": [
      "data/sms-call-internet-mi-2013-11-04.txt\n"
     ]
    },
    {
     "name": "stderr",
     "output_type": "stream",
     "text": [
      "\r",
      " 14%|█▍        | 1/7 [00:07<00:42,  7.06s/it]"
     ]
    },
    {
     "name": "stdout",
     "output_type": "stream",
     "text": [
      "data/sms-call-internet-mi-2013-11-05.txt\n"
     ]
    },
    {
     "name": "stderr",
     "output_type": "stream",
     "text": [
      "\r",
      " 29%|██▊       | 2/7 [00:14<00:36,  7.22s/it]"
     ]
    },
    {
     "name": "stdout",
     "output_type": "stream",
     "text": [
      "data/sms-call-internet-mi-2013-11-07.txt\n"
     ]
    },
    {
     "name": "stderr",
     "output_type": "stream",
     "text": [
      "\r",
      " 43%|████▎     | 3/7 [00:22<00:29,  7.41s/it]"
     ]
    },
    {
     "name": "stdout",
     "output_type": "stream",
     "text": [
      "data/sms-call-internet-mi-2013-11-06.txt\n"
     ]
    },
    {
     "name": "stderr",
     "output_type": "stream",
     "text": [
      "\r",
      " 57%|█████▋    | 4/7 [00:30<00:22,  7.59s/it]"
     ]
    },
    {
     "name": "stdout",
     "output_type": "stream",
     "text": [
      "data/sms-call-internet-mi-2013-11-02.txt\n"
     ]
    },
    {
     "name": "stderr",
     "output_type": "stream",
     "text": [
      "\r",
      " 71%|███████▏  | 5/7 [00:37<00:14,  7.30s/it]"
     ]
    },
    {
     "name": "stdout",
     "output_type": "stream",
     "text": [
      "data/sms-call-internet-mi-2013-11-03.txt\n"
     ]
    },
    {
     "name": "stderr",
     "output_type": "stream",
     "text": [
      "\r",
      " 86%|████████▌ | 6/7 [00:43<00:07,  7.10s/it]"
     ]
    },
    {
     "name": "stdout",
     "output_type": "stream",
     "text": [
      "data/sms-call-internet-mi-2013-11-01.txt\n"
     ]
    },
    {
     "name": "stderr",
     "output_type": "stream",
     "text": [
      "100%|██████████| 7/7 [00:50<00:00,  7.23s/it]\n"
     ]
    }
   ],
   "source": [
    "#import frequently used modules\n",
    "import pandas as pd\n",
    "import numpy as np\n",
    "import seaborn as sns\n",
    "import matplotlib.pyplot as plt\n",
    "from tqdm import tqdm\n",
    "import pytz\n",
    "from datetime import timedelta, date, datetime\n",
    "import time\n",
    "import os\n",
    "import glob\n",
    "filenames = glob.glob(\"data/*.txt\")\n",
    "\n",
    "\n",
    "start_time = time.time()\n",
    "\n",
    "#Initialize an empty dataframe to append the daily and hourly resampled data\n",
    "dailyGridActivity = pd.DataFrame()\n",
    "hourlyGridActivity = pd.DataFrame()\n",
    "    \n",
    "col_list = ['gridID', 'timeInterval', 'countryCode', 'smsIn', 'smsOut', 'callIn', 'callOut', 'internetActivity']\n",
    "\n",
    "col_list2 = ['gridID', 'smsIn', 'smsOut', 'callIn', 'callOut', 'internetActivity']\n",
    "df = pd.DataFrame(list(),columns=col_list2 )\n",
    "df.to_csv('g1.csv' )\n",
    "df.to_csv('g2.csv')\n",
    "df.to_csv('g3.csv')\n",
    "\n",
    "for file in tqdm(filenames):\n",
    "    print(file)\n",
    "    read_data = pd.read_csv(file, sep='\\t',header=None, names=col_list, parse_dates=True)\n",
    "    \n",
    "#Generating filenames iteratively\n",
    "#def daterange(start_date, end_date):\n",
    "#    for n in range(int ((end_date - start_date).days)):\n",
    "#        yield start_date + timedelta(n)\n",
    "\n",
    "#start_date = date(2013, 11, 1)\n",
    "#end_date = date(2013, 11, 1)\n",
    "#for single_date in tqdm(daterange(start_date, end_date)):\n",
    "    #read_data = pd.read_csv(filename_constant.format(single_date.strftime(\"%Y-%m-%d\")), sep='\\t',header=None, names=col_list, parse_dates=True)\n",
    "#read_data = pd.read_csv(filename_constant, sep='\\t',header=None, names=col_list, parse_dates=True)\n",
    "    #Check for null values (Execute until this point seperately before proceeding ahead)\n",
    "    #print(filename_constant.format(single_date.strftime(\"%Y-%m-%d\")))\n",
    "    #print(read_data.isnull().sum())\n",
    "    \n",
    "    #Convert timeInterval column which has Epoch timestamps to UTC and then convert to Milan's local timezone\n",
    "    #tz_localize(None) returns local time format, not \"UTC+1:00\" format\n",
    "    read_data['startTime'] = pd.to_datetime(read_data.timeInterval, unit='ms', utc=True).dt.tz_convert('CET').dt.tz_localize(None)\n",
    "    \n",
    "    #Drop timeInterval columns\n",
    "    read_data.drop(columns=['timeInterval','countryCode'], inplace=True)\n",
    "    \n",
    "    #Groupby gridID and startTime as well as set index \n",
    "    #startTime which is 10 min apart is resampled to daily aggregation \n",
    "    read_data_daily = read_data.groupby(['gridID', pd.Grouper(key='startTime', freq='D')]).sum()\n",
    "    dailyGridActivity = pd.concat([dailyGridActivity,read_data_daily]).groupby(['gridID', 'startTime']).sum()\n",
    "    \n",
    "    #Groupby gridID and startTime as well as set index \n",
    "    #startTime which is 10 min apart is resampled to hourly aggregation \n",
    "    read_data_hourly = read_data.groupby(['gridID', pd.Grouper(key='startTime', freq='H')]).sum()\n",
    "    hourlyGridActivity = pd.concat([hourlyGridActivity,read_data_hourly]).groupby(['gridID', 'startTime']).sum()\n",
    "\n",
    "    grids=hourlyGridActivity[:72]\n",
    "    grid1=grids[0:24]\n",
    "    with open('g1.csv','r') as infile:\n",
    "          grid1.to_csv('g1.csv',mode='a',header=False)\n",
    "\n",
    "    grids2=grids[24:48]\n",
    "    with open('g2.csv','r') as infile:\n",
    "          grids2.to_csv('g2.csv',mode='a',header=False)\n",
    "\n",
    "    grids3=grids[48:72]\n",
    "    with open('g3.csv','r') as infile:\n",
    "          grids3.to_csv('g3.csv',mode='a',header=False)\n"
   ]
  },
  {
   "cell_type": "code",
   "execution_count": 9,
   "metadata": {},
   "outputs": [
    {
     "data": {
      "text/html": [
       "<div>\n",
       "<style scoped>\n",
       "    .dataframe tbody tr th:only-of-type {\n",
       "        vertical-align: middle;\n",
       "    }\n",
       "\n",
       "    .dataframe tbody tr th {\n",
       "        vertical-align: top;\n",
       "    }\n",
       "\n",
       "    .dataframe thead th {\n",
       "        text-align: right;\n",
       "    }\n",
       "</style>\n",
       "<table border=\"1\" class=\"dataframe\">\n",
       "  <thead>\n",
       "    <tr style=\"text-align: right;\">\n",
       "      <th></th>\n",
       "      <th></th>\n",
       "      <th></th>\n",
       "      <th></th>\n",
       "      <th></th>\n",
       "      <th></th>\n",
       "      <th>Unnamed: 0</th>\n",
       "    </tr>\n",
       "  </thead>\n",
       "  <tbody>\n",
       "    <tr>\n",
       "      <th rowspan=\"11\" valign=\"top\">1</th>\n",
       "      <th>2013-11-04 00:00:00</th>\n",
       "      <th>1.134621</th>\n",
       "      <th>0.806930</th>\n",
       "      <th>0.055225</th>\n",
       "      <th>0.215539</th>\n",
       "      <td>50.341965</td>\n",
       "    </tr>\n",
       "    <tr>\n",
       "      <th>2013-11-04 01:00:00</th>\n",
       "      <th>1.916321</th>\n",
       "      <th>1.756007</th>\n",
       "      <th>0.001787</th>\n",
       "      <th>0.027300</th>\n",
       "      <td>46.150144</td>\n",
       "    </tr>\n",
       "    <tr>\n",
       "      <th>2013-11-04 02:00:00</th>\n",
       "      <th>0.567580</th>\n",
       "      <th>0.622720</th>\n",
       "      <th>0.000000</th>\n",
       "      <th>0.001787</th>\n",
       "      <td>35.053423</td>\n",
       "    </tr>\n",
       "    <tr>\n",
       "      <th>2013-11-04 03:00:00</th>\n",
       "      <th>0.162640</th>\n",
       "      <th>0.054601</th>\n",
       "      <th>0.000000</th>\n",
       "      <th>0.001787</th>\n",
       "      <td>30.914044</td>\n",
       "    </tr>\n",
       "    <tr>\n",
       "      <th>2013-11-04 04:00:00</th>\n",
       "      <th>0.322953</th>\n",
       "      <th>0.053438</th>\n",
       "      <th>0.029088</th>\n",
       "      <th>0.054601</th>\n",
       "      <td>31.978532</td>\n",
       "    </tr>\n",
       "    <tr>\n",
       "      <th>...</th>\n",
       "      <th>...</th>\n",
       "      <th>...</th>\n",
       "      <th>...</th>\n",
       "      <th>...</th>\n",
       "      <td>...</td>\n",
       "    </tr>\n",
       "    <tr>\n",
       "      <th>2013-11-01 19:00:00</th>\n",
       "      <th>3.911050</th>\n",
       "      <th>2.756267</th>\n",
       "      <th>2.302957</th>\n",
       "      <th>3.670195</th>\n",
       "      <td>79.898224</td>\n",
       "    </tr>\n",
       "    <tr>\n",
       "      <th>2013-11-01 20:00:00</th>\n",
       "      <th>4.528040</th>\n",
       "      <th>2.497267</th>\n",
       "      <th>2.030859</th>\n",
       "      <th>2.864268</th>\n",
       "      <td>72.091163</td>\n",
       "    </tr>\n",
       "    <tr>\n",
       "      <th>2013-11-01 21:00:00</th>\n",
       "      <th>4.289314</th>\n",
       "      <th>2.292233</th>\n",
       "      <th>1.383618</th>\n",
       "      <th>1.462116</th>\n",
       "      <td>61.397393</td>\n",
       "    </tr>\n",
       "    <tr>\n",
       "      <th>2013-11-01 22:00:00</th>\n",
       "      <th>2.854537</th>\n",
       "      <th>1.956021</th>\n",
       "      <th>0.781417</th>\n",
       "      <th>1.157808</th>\n",
       "      <td>58.947814</td>\n",
       "    </tr>\n",
       "    <tr>\n",
       "      <th>2013-11-01 23:00:00</th>\n",
       "      <th>2.323317</th>\n",
       "      <th>1.506078</th>\n",
       "      <th>0.353914</th>\n",
       "      <th>0.659251</th>\n",
       "      <td>58.815763</td>\n",
       "    </tr>\n",
       "  </tbody>\n",
       "</table>\n",
       "<p>120 rows × 1 columns</p>\n",
       "</div>"
      ],
      "text/plain": [
       "                                                           Unnamed: 0\n",
       "1 2013-11-04 00:00:00 1.134621 0.806930 0.055225 0.215539   50.341965\n",
       "  2013-11-04 01:00:00 1.916321 1.756007 0.001787 0.027300   46.150144\n",
       "  2013-11-04 02:00:00 0.567580 0.622720 0.000000 0.001787   35.053423\n",
       "  2013-11-04 03:00:00 0.162640 0.054601 0.000000 0.001787   30.914044\n",
       "  2013-11-04 04:00:00 0.322953 0.053438 0.029088 0.054601   31.978532\n",
       "...                                                               ...\n",
       "  2013-11-01 19:00:00 3.911050 2.756267 2.302957 3.670195   79.898224\n",
       "  2013-11-01 20:00:00 4.528040 2.497267 2.030859 2.864268   72.091163\n",
       "  2013-11-01 21:00:00 4.289314 2.292233 1.383618 1.462116   61.397393\n",
       "  2013-11-01 22:00:00 2.854537 1.956021 0.781417 1.157808   58.947814\n",
       "  2013-11-01 23:00:00 2.323317 1.506078 0.353914 0.659251   58.815763\n",
       "\n",
       "[120 rows x 1 columns]"
      ]
     },
     "execution_count": 9,
     "metadata": {},
     "output_type": "execute_result"
    }
   ],
   "source": []
  },
  {
   "cell_type": "code",
   "execution_count": null,
   "metadata": {},
   "outputs": [],
   "source": []
  }
 ],
 "metadata": {
  "kernelspec": {
   "display_name": "Python 3",
   "language": "python",
   "name": "python3"
  },
  "language_info": {
   "codemirror_mode": {
    "name": "ipython",
    "version": 3
   },
   "file_extension": ".py",
   "mimetype": "text/x-python",
   "name": "python",
   "nbconvert_exporter": "python",
   "pygments_lexer": "ipython3",
   "version": "3.7.7"
  }
 },
 "nbformat": 4,
 "nbformat_minor": 4
}

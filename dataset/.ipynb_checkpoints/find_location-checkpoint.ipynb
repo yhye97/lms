{
 "cells": [
  {
   "cell_type": "code",
   "execution_count": 3,
   "metadata": {},
   "outputs": [
    {
     "data": {
      "text/plain": [
       "0        37.585736\n",
       "1        37.571817\n",
       "2        37.569003\n",
       "3        37.573001\n",
       "4        37.575743\n",
       "           ...    \n",
       "11868    37.024922\n",
       "11869    37.246497\n",
       "11870    37.494695\n",
       "11871    37.498222\n",
       "11872    37.497612\n",
       "Name: 위도, Length: 11873, dtype: float64"
      ]
     },
     "execution_count": 3,
     "metadata": {},
     "output_type": "execute_result"
    }
   ],
   "source": [
    "import pandas as pd\n",
    "import numpy as np\n",
    "import pyspark\n",
    "\n",
    "basic_folder = ''\n",
    "file_name = basic_folder + 'elementary_middle_schools_location.csv'\n",
    "df =pd.read_csv(file_name)\n",
    "\n",
    "latitude=df['위도']\n",
    "longitude=df['경도']\n"
   ]
  },
  {
   "cell_type": "code",
   "execution_count": null,
   "metadata": {},
   "outputs": [],
   "source": []
  }
 ],
 "metadata": {
  "kernelspec": {
   "display_name": "Python 3",
   "language": "python",
   "name": "python3"
  },
  "language_info": {
   "codemirror_mode": {
    "name": "ipython",
    "version": 3
   },
   "file_extension": ".py",
   "mimetype": "text/x-python",
   "name": "python",
   "nbconvert_exporter": "python",
   "pygments_lexer": "ipython3",
   "version": "3.7.7"
  }
 },
 "nbformat": 4,
 "nbformat_minor": 4
}
